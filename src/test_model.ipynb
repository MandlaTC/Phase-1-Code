{
 "cells": [
  {
   "cell_type": "code",
   "execution_count": 1,
   "metadata": {},
   "outputs": [],
   "source": [
    "import tensorflow as tf\n",
    "from tensorflow.keras.models import load_model\n",
    "from tensorflow.keras.preprocessing import image\n",
    "import numpy as np"
   ]
  },
  {
   "cell_type": "code",
   "execution_count": 13,
   "metadata": {},
   "outputs": [
    {
     "name": "stderr",
     "output_type": "stream",
     "text": [
      "2023-08-14 14:32:09.381529: I tensorflow/core/common_runtime/pluggable_device/pluggable_device_factory.cc:305] Could not identify NUMA node of platform GPU ID 0, defaulting to 0. Your kernel may not have been built with NUMA support.\n",
      "2023-08-14 14:32:09.381806: I tensorflow/core/common_runtime/pluggable_device/pluggable_device_factory.cc:271] Created TensorFlow device (/job:localhost/replica:0/task:0/device:GPU:0 with 0 MB memory) -> physical PluggableDevice (device: 0, name: METAL, pci bus id: <undefined>)\n"
     ]
    },
    {
     "name": "stdout",
     "output_type": "stream",
     "text": [
      "Metal device set to: Apple M1 Pro\n",
      "\n",
      "systemMemory: 16.00 GB\n",
      "maxCacheSize: 5.33 GB\n",
      "\n"
     ]
    }
   ],
   "source": [
    "# Load the pre-trained model\n",
    "model = load_model('logs/2023-08-14-14:27:29/model.h5')\n"
   ]
  },
  {
   "cell_type": "code",
   "execution_count": 20,
   "metadata": {},
   "outputs": [
    {
     "ename": "ValueError",
     "evalue": "`decode_predictions` expects a batch of predictions (i.e. a 2D array of shape (samples, 1000)). Found array with shape: (1, 1)",
     "output_type": "error",
     "traceback": [
      "\u001b[0;31m---------------------------------------------------------------------------\u001b[0m",
      "\u001b[0;31mValueError\u001b[0m                                Traceback (most recent call last)",
      "\u001b[1;32m/Users/mandlachavarika/Desktop/DropFile/WITS2023/Research/Phase-1-Code/src/test_model.ipynb Cell 3\u001b[0m in \u001b[0;36m<cell line: 14>\u001b[0;34m()\u001b[0m\n\u001b[1;32m     <a href='vscode-notebook-cell:/Users/mandlachavarika/Desktop/DropFile/WITS2023/Research/Phase-1-Code/src/test_model.ipynb#W2sZmlsZQ%3D%3D?line=10'>11</a>\u001b[0m predictions \u001b[39m=\u001b[39m model\u001b[39m.\u001b[39mpredict(img_array)\n\u001b[1;32m     <a href='vscode-notebook-cell:/Users/mandlachavarika/Desktop/DropFile/WITS2023/Research/Phase-1-Code/src/test_model.ipynb#W2sZmlsZQ%3D%3D?line=12'>13</a>\u001b[0m \u001b[39m# Decode the predictions (if the model is a classification model)\u001b[39;00m\n\u001b[0;32m---> <a href='vscode-notebook-cell:/Users/mandlachavarika/Desktop/DropFile/WITS2023/Research/Phase-1-Code/src/test_model.ipynb#W2sZmlsZQ%3D%3D?line=13'>14</a>\u001b[0m decoded_predictions \u001b[39m=\u001b[39m tf\u001b[39m.\u001b[39;49mkeras\u001b[39m.\u001b[39;49mapplications\u001b[39m.\u001b[39;49mvgg16\u001b[39m.\u001b[39;49mdecode_predictions(predictions)\n\u001b[1;32m     <a href='vscode-notebook-cell:/Users/mandlachavarika/Desktop/DropFile/WITS2023/Research/Phase-1-Code/src/test_model.ipynb#W2sZmlsZQ%3D%3D?line=15'>16</a>\u001b[0m \u001b[39m# Print the top prediction\u001b[39;00m\n\u001b[1;32m     <a href='vscode-notebook-cell:/Users/mandlachavarika/Desktop/DropFile/WITS2023/Research/Phase-1-Code/src/test_model.ipynb#W2sZmlsZQ%3D%3D?line=16'>17</a>\u001b[0m \u001b[39mprint\u001b[39m(\u001b[39m'\u001b[39m\u001b[39mPredicted:\u001b[39m\u001b[39m'\u001b[39m, decoded_predictions[\u001b[39m0\u001b[39m][\u001b[39m0\u001b[39m])\n",
      "File \u001b[0;32m~/miniforge3/envs/mlp/lib/python3.9/site-packages/keras/applications/vgg16.py:238\u001b[0m, in \u001b[0;36mdecode_predictions\u001b[0;34m(preds, top)\u001b[0m\n\u001b[1;32m    236\u001b[0m \u001b[39m@keras_export\u001b[39m(\u001b[39m'\u001b[39m\u001b[39mkeras.applications.vgg16.decode_predictions\u001b[39m\u001b[39m'\u001b[39m)\n\u001b[1;32m    237\u001b[0m \u001b[39mdef\u001b[39;00m \u001b[39mdecode_predictions\u001b[39m(preds, top\u001b[39m=\u001b[39m\u001b[39m5\u001b[39m):\n\u001b[0;32m--> 238\u001b[0m   \u001b[39mreturn\u001b[39;00m imagenet_utils\u001b[39m.\u001b[39;49mdecode_predictions(preds, top\u001b[39m=\u001b[39;49mtop)\n",
      "File \u001b[0;32m~/miniforge3/envs/mlp/lib/python3.9/site-packages/keras/applications/imagenet_utils.py:147\u001b[0m, in \u001b[0;36mdecode_predictions\u001b[0;34m(preds, top)\u001b[0m\n\u001b[1;32m    144\u001b[0m \u001b[39mglobal\u001b[39;00m CLASS_INDEX\n\u001b[1;32m    146\u001b[0m \u001b[39mif\u001b[39;00m \u001b[39mlen\u001b[39m(preds\u001b[39m.\u001b[39mshape) \u001b[39m!=\u001b[39m \u001b[39m2\u001b[39m \u001b[39mor\u001b[39;00m preds\u001b[39m.\u001b[39mshape[\u001b[39m1\u001b[39m] \u001b[39m!=\u001b[39m \u001b[39m1000\u001b[39m:\n\u001b[0;32m--> 147\u001b[0m   \u001b[39mraise\u001b[39;00m \u001b[39mValueError\u001b[39;00m(\u001b[39m'\u001b[39m\u001b[39m`decode_predictions` expects \u001b[39m\u001b[39m'\u001b[39m\n\u001b[1;32m    148\u001b[0m                    \u001b[39m'\u001b[39m\u001b[39ma batch of predictions \u001b[39m\u001b[39m'\u001b[39m\n\u001b[1;32m    149\u001b[0m                    \u001b[39m'\u001b[39m\u001b[39m(i.e. a 2D array of shape (samples, 1000)). \u001b[39m\u001b[39m'\u001b[39m\n\u001b[1;32m    150\u001b[0m                    \u001b[39m'\u001b[39m\u001b[39mFound array with shape: \u001b[39m\u001b[39m'\u001b[39m \u001b[39m+\u001b[39m \u001b[39mstr\u001b[39m(preds\u001b[39m.\u001b[39mshape))\n\u001b[1;32m    151\u001b[0m \u001b[39mif\u001b[39;00m CLASS_INDEX \u001b[39mis\u001b[39;00m \u001b[39mNone\u001b[39;00m:\n\u001b[1;32m    152\u001b[0m   fpath \u001b[39m=\u001b[39m data_utils\u001b[39m.\u001b[39mget_file(\n\u001b[1;32m    153\u001b[0m       \u001b[39m'\u001b[39m\u001b[39mimagenet_class_index.json\u001b[39m\u001b[39m'\u001b[39m,\n\u001b[1;32m    154\u001b[0m       CLASS_INDEX_PATH,\n\u001b[1;32m    155\u001b[0m       cache_subdir\u001b[39m=\u001b[39m\u001b[39m'\u001b[39m\u001b[39mmodels\u001b[39m\u001b[39m'\u001b[39m,\n\u001b[1;32m    156\u001b[0m       file_hash\u001b[39m=\u001b[39m\u001b[39m'\u001b[39m\u001b[39mc2c37ea517e94d9795004a39431a14cb\u001b[39m\u001b[39m'\u001b[39m)\n",
      "\u001b[0;31mValueError\u001b[0m: `decode_predictions` expects a batch of predictions (i.e. a 2D array of shape (samples, 1000)). Found array with shape: (1, 1)"
     ]
    }
   ],
   "source": [
    "# Load an image for testing\n",
    "img_path = 'dataset/train/class_abnormal/image_8.png'\n",
    "img = image.load_img(img_path, target_size=(224, 224))\n",
    "img_array = image.img_to_array(img)\n",
    "img_array = np.expand_dims(img_array, axis=0)\n",
    "\n",
    "# Preprocess the image (normalize pixel values and perform any required transformations)\n",
    "# img_array = tf.keras.applications.resnet50.preprocess_input(img_array)\n",
    "\n",
    "# Make predictions\n",
    "predictions = model.predict(img_array)\n",
    "\n",
    "# Decode the predictions (if the model is a classification model)\n",
    "decoded_predictions = tf.keras.applications.vgg16.decode_predictions(predictions)\n",
    "\n",
    "# Print the top prediction\n",
    "print('Predicted:', decoded_predictions[0][0])"
   ]
  }
 ],
 "metadata": {
  "kernelspec": {
   "display_name": "mlp",
   "language": "python",
   "name": "python3"
  },
  "language_info": {
   "codemirror_mode": {
    "name": "ipython",
    "version": 3
   },
   "file_extension": ".py",
   "mimetype": "text/x-python",
   "name": "python",
   "nbconvert_exporter": "python",
   "pygments_lexer": "ipython3",
   "version": "3.9.10"
  },
  "orig_nbformat": 4
 },
 "nbformat": 4,
 "nbformat_minor": 2
}
